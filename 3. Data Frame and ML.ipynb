{
 "cells": [
  {
   "cell_type": "markdown",
   "metadata": {},
   "source": [
    "# Import csv and use pandas to create dataframe"
   ]
  },
  {
   "cell_type": "code",
   "execution_count": 1,
   "metadata": {},
   "outputs": [],
   "source": [
    "import pandas as pd"
   ]
  },
  {
   "cell_type": "markdown",
   "metadata": {},
   "source": [
    "### Import anomalous traffic - brute force simulation"
   ]
  },
  {
   "cell_type": "code",
   "execution_count": 2,
   "metadata": {},
   "outputs": [],
   "source": [
    "badtraffic = pd.read_csv(\"UbuntuBruteForceValeria.pcap_Flow.csv\")\n",
    "badtraffic2 = pd.read_csv(\"Centosx3BruteFroce.pcap_Flow.csv\")"
   ]
  },
  {
   "cell_type": "code",
   "execution_count": 3,
   "metadata": {},
   "outputs": [],
   "source": [
    "bt = pd.DataFrame(badtraffic)\n",
    "bt2 = pd.DataFrame(badtraffic2)"
   ]
  },
  {
   "cell_type": "markdown",
   "metadata": {},
   "source": [
    "## DataFrame Bad Traffic Size"
   ]
  },
  {
   "cell_type": "code",
   "execution_count": 4,
   "metadata": {},
   "outputs": [
    {
     "data": {
      "text/plain": [
       "(8895, 84)"
      ]
     },
     "execution_count": 4,
     "metadata": {},
     "output_type": "execute_result"
    }
   ],
   "source": [
    "bt.shape"
   ]
  },
  {
   "cell_type": "code",
   "execution_count": 5,
   "metadata": {},
   "outputs": [
    {
     "data": {
      "text/plain": [
       "(26771, 84)"
      ]
     },
     "execution_count": 5,
     "metadata": {},
     "output_type": "execute_result"
    }
   ],
   "source": [
    "bt2.shape"
   ]
  },
  {
   "cell_type": "markdown",
   "metadata": {},
   "source": [
    "### Features Extraction"
   ]
  },
  {
   "cell_type": "code",
   "execution_count": 6,
   "metadata": {},
   "outputs": [],
   "source": [
    "pd.set_option('display.max_columns', None)"
   ]
  },
  {
   "cell_type": "code",
   "execution_count": 7,
   "metadata": {},
   "outputs": [],
   "source": [
    "bt = bt[['Src Port','Dst Port', \\\n",
    "         'Flow Duration', 'Total Fwd Packet', 'Total Length of Fwd Packet', 'FIN Flag Count',\\\n",
    "         'SYN Flag Count' ,'ACK Flag Count', 'PSH Flag Count']]\n",
    "\n",
    "bt2 = bt2[['Src Port','Dst Port', \\\n",
    "         'Flow Duration', 'Total Fwd Packet', 'Total Length of Fwd Packet', 'FIN Flag Count',\\\n",
    "         'SYN Flag Count' ,'ACK Flag Count', 'PSH Flag Count']]"
   ]
  },
  {
   "cell_type": "markdown",
   "metadata": {},
   "source": [
    "### Add a new column 'Label' = ssh-bruteforce to label anomalous traffic (brute force)"
   ]
  },
  {
   "cell_type": "code",
   "execution_count": 8,
   "metadata": {},
   "outputs": [],
   "source": [
    "bt['Label'] = 'ssh-bruteforce'\n",
    "bt2['Label'] = 'ssh-bruteforce'"
   ]
  },
  {
   "cell_type": "code",
   "execution_count": 9,
   "metadata": {},
   "outputs": [],
   "source": [
    "anomaloustraffic = [bt, bt2]\n",
    "\n",
    "bad = pd.concat(anomaloustraffic)"
   ]
  },
  {
   "cell_type": "markdown",
   "metadata": {},
   "source": [
    "## Import csv of IDS (good traffic) - pandas to create dataframe"
   ]
  },
  {
   "cell_type": "code",
   "execution_count": 10,
   "metadata": {},
   "outputs": [],
   "source": [
    "goodtraffic = pd.read_csv(r\"C:\\Users\\Tandoi\\Desktop\\Progetto Master\\Test PCAP\\ids_data.csv\")"
   ]
  },
  {
   "cell_type": "code",
   "execution_count": 11,
   "metadata": {},
   "outputs": [],
   "source": [
    "gt = pd.DataFrame(goodtraffic)"
   ]
  },
  {
   "cell_type": "code",
   "execution_count": 12,
   "metadata": {
    "scrolled": true
   },
   "outputs": [
    {
     "data": {
      "text/html": [
       "<div>\n",
       "<style scoped>\n",
       "    .dataframe tbody tr th:only-of-type {\n",
       "        vertical-align: middle;\n",
       "    }\n",
       "\n",
       "    .dataframe tbody tr th {\n",
       "        vertical-align: top;\n",
       "    }\n",
       "\n",
       "    .dataframe thead th {\n",
       "        text-align: right;\n",
       "    }\n",
       "</style>\n",
       "<table border=\"1\" class=\"dataframe\">\n",
       "  <thead>\n",
       "    <tr style=\"text-align: right;\">\n",
       "      <th></th>\n",
       "      <th>Flow ID</th>\n",
       "      <th>Src IP</th>\n",
       "      <th>Src Port</th>\n",
       "      <th>Dst IP</th>\n",
       "      <th>Dst Port</th>\n",
       "      <th>Protocol</th>\n",
       "      <th>Timestamp</th>\n",
       "      <th>Flow Duration</th>\n",
       "      <th>Total Fwd Packet</th>\n",
       "      <th>Total Bwd packets</th>\n",
       "      <th>Total Length of Fwd Packet</th>\n",
       "      <th>Total Length of Bwd Packet</th>\n",
       "      <th>Fwd Packet Length Max</th>\n",
       "      <th>Fwd Packet Length Min</th>\n",
       "      <th>Fwd Packet Length Mean</th>\n",
       "      <th>Fwd Packet Length Std</th>\n",
       "      <th>Bwd Packet Length Max</th>\n",
       "      <th>Bwd Packet Length Min</th>\n",
       "      <th>Bwd Packet Length Mean</th>\n",
       "      <th>Bwd Packet Length Std</th>\n",
       "      <th>Flow Bytes/s</th>\n",
       "      <th>Flow Packets/s</th>\n",
       "      <th>Flow IAT Mean</th>\n",
       "      <th>Flow IAT Std</th>\n",
       "      <th>Flow IAT Max</th>\n",
       "      <th>Flow IAT Min</th>\n",
       "      <th>Fwd IAT Total</th>\n",
       "      <th>Fwd IAT Mean</th>\n",
       "      <th>Fwd IAT Std</th>\n",
       "      <th>Fwd IAT Max</th>\n",
       "      <th>Fwd IAT Min</th>\n",
       "      <th>Bwd IAT Total</th>\n",
       "      <th>Bwd IAT Mean</th>\n",
       "      <th>Bwd IAT Std</th>\n",
       "      <th>Bwd IAT Max</th>\n",
       "      <th>Bwd IAT Min</th>\n",
       "      <th>Fwd PSH Flags</th>\n",
       "      <th>Bwd PSH Flags</th>\n",
       "      <th>Fwd URG Flags</th>\n",
       "      <th>Bwd URG Flags</th>\n",
       "      <th>Fwd Header Length</th>\n",
       "      <th>Bwd Header Length</th>\n",
       "      <th>Fwd Packets/s</th>\n",
       "      <th>Bwd Packets/s</th>\n",
       "      <th>Packet Length Min</th>\n",
       "      <th>Packet Length Max</th>\n",
       "      <th>Packet Length Mean</th>\n",
       "      <th>Packet Length Std</th>\n",
       "      <th>Packet Length Variance</th>\n",
       "      <th>FIN Flag Count</th>\n",
       "      <th>SYN Flag Count</th>\n",
       "      <th>RST Flag Count</th>\n",
       "      <th>PSH Flag Count</th>\n",
       "      <th>ACK Flag Count</th>\n",
       "      <th>URG Flag Count</th>\n",
       "      <th>CWE Flag Count</th>\n",
       "      <th>ECE Flag Count</th>\n",
       "      <th>Down/Up Ratio</th>\n",
       "      <th>Average Packet Size</th>\n",
       "      <th>Fwd Segment Size Avg</th>\n",
       "      <th>Bwd Segment Size Avg</th>\n",
       "      <th>Fwd Bytes/Bulk Avg</th>\n",
       "      <th>Fwd Packet/Bulk Avg</th>\n",
       "      <th>Fwd Bulk Rate Avg</th>\n",
       "      <th>Bwd Bytes/Bulk Avg</th>\n",
       "      <th>Bwd Packet/Bulk Avg</th>\n",
       "      <th>Bwd Bulk Rate Avg</th>\n",
       "      <th>Subflow Fwd Packets</th>\n",
       "      <th>Subflow Fwd Bytes</th>\n",
       "      <th>Subflow Bwd Packets</th>\n",
       "      <th>Subflow Bwd Bytes</th>\n",
       "      <th>FWD Init Win Bytes</th>\n",
       "      <th>Bwd Init Win Bytes</th>\n",
       "      <th>Fwd Act Data Pkts</th>\n",
       "      <th>Fwd Seg Size Min</th>\n",
       "      <th>Active Mean</th>\n",
       "      <th>Active Std</th>\n",
       "      <th>Active Max</th>\n",
       "      <th>Active Min</th>\n",
       "      <th>Idle Mean</th>\n",
       "      <th>Idle Std</th>\n",
       "      <th>Idle Max</th>\n",
       "      <th>Idle Min</th>\n",
       "      <th>Label</th>\n",
       "    </tr>\n",
       "  </thead>\n",
       "  <tbody>\n",
       "    <tr>\n",
       "      <th>0</th>\n",
       "      <td>172.25.75.126-172.16.68.58-60598-22-6</td>\n",
       "      <td>172.25.75.126</td>\n",
       "      <td>60598</td>\n",
       "      <td>172.16.68.58</td>\n",
       "      <td>22</td>\n",
       "      <td>6</td>\n",
       "      <td>20/02/2020 06:37:51 AM</td>\n",
       "      <td>12209565</td>\n",
       "      <td>130</td>\n",
       "      <td>70</td>\n",
       "      <td>2856.0</td>\n",
       "      <td>6448.0</td>\n",
       "      <td>188.0</td>\n",
       "      <td>0.0</td>\n",
       "      <td>21.969231</td>\n",
       "      <td>29.373811</td>\n",
       "      <td>1368.0</td>\n",
       "      <td>36.0</td>\n",
       "      <td>92.114286</td>\n",
       "      <td>222.925967</td>\n",
       "      <td>762.025510</td>\n",
       "      <td>16.380600</td>\n",
       "      <td>6.135460e+04</td>\n",
       "      <td>5.092299e+05</td>\n",
       "      <td>7020029.0</td>\n",
       "      <td>1.0</td>\n",
       "      <td>12209565.0</td>\n",
       "      <td>9.464779e+04</td>\n",
       "      <td>6.308373e+05</td>\n",
       "      <td>7020029.0</td>\n",
       "      <td>3.0</td>\n",
       "      <td>12205863.0</td>\n",
       "      <td>1.768966e+05</td>\n",
       "      <td>8.581300e+05</td>\n",
       "      <td>7027831.0</td>\n",
       "      <td>1.0</td>\n",
       "      <td>1</td>\n",
       "      <td>0</td>\n",
       "      <td>0</td>\n",
       "      <td>0</td>\n",
       "      <td>4160</td>\n",
       "      <td>2240</td>\n",
       "      <td>10.647390</td>\n",
       "      <td>5.733210</td>\n",
       "      <td>0.0</td>\n",
       "      <td>1368.0</td>\n",
       "      <td>46.467662</td>\n",
       "      <td>137.191691</td>\n",
       "      <td>18821.560199</td>\n",
       "      <td>0</td>\n",
       "      <td>0</td>\n",
       "      <td>0</td>\n",
       "      <td>130</td>\n",
       "      <td>200</td>\n",
       "      <td>0</td>\n",
       "      <td>0</td>\n",
       "      <td>0</td>\n",
       "      <td>0.0</td>\n",
       "      <td>46.700000</td>\n",
       "      <td>21.969231</td>\n",
       "      <td>92.114286</td>\n",
       "      <td>0</td>\n",
       "      <td>0</td>\n",
       "      <td>0</td>\n",
       "      <td>0</td>\n",
       "      <td>44</td>\n",
       "      <td>2334</td>\n",
       "      <td>0</td>\n",
       "      <td>14</td>\n",
       "      <td>0</td>\n",
       "      <td>32</td>\n",
       "      <td>2048</td>\n",
       "      <td>356</td>\n",
       "      <td>61</td>\n",
       "      <td>32</td>\n",
       "      <td>0</td>\n",
       "      <td>0</td>\n",
       "      <td>0</td>\n",
       "      <td>0</td>\n",
       "      <td>1.582199e+15</td>\n",
       "      <td>3.688658e+06</td>\n",
       "      <td>1.582199e+15</td>\n",
       "      <td>1.582199e+15</td>\n",
       "      <td>NeedManualLabel</td>\n",
       "    </tr>\n",
       "    <tr>\n",
       "      <th>1</th>\n",
       "      <td>172.25.75.126-172.16.68.56-60603-22-6</td>\n",
       "      <td>172.25.75.126</td>\n",
       "      <td>60603</td>\n",
       "      <td>172.16.68.56</td>\n",
       "      <td>22</td>\n",
       "      <td>6</td>\n",
       "      <td>20/02/2020 06:36:44 AM</td>\n",
       "      <td>34823465</td>\n",
       "      <td>54</td>\n",
       "      <td>36</td>\n",
       "      <td>824.0</td>\n",
       "      <td>5104.0</td>\n",
       "      <td>44.0</td>\n",
       "      <td>0.0</td>\n",
       "      <td>15.259259</td>\n",
       "      <td>18.682234</td>\n",
       "      <td>1368.0</td>\n",
       "      <td>0.0</td>\n",
       "      <td>141.777778</td>\n",
       "      <td>305.653315</td>\n",
       "      <td>170.230045</td>\n",
       "      <td>2.584464</td>\n",
       "      <td>3.912749e+05</td>\n",
       "      <td>3.112204e+06</td>\n",
       "      <td>29276513.0</td>\n",
       "      <td>3.0</td>\n",
       "      <td>34823465.0</td>\n",
       "      <td>6.570465e+05</td>\n",
       "      <td>4.026588e+06</td>\n",
       "      <td>29276513.0</td>\n",
       "      <td>3.0</td>\n",
       "      <td>34816392.0</td>\n",
       "      <td>9.947541e+05</td>\n",
       "      <td>4.945468e+06</td>\n",
       "      <td>29279587.0</td>\n",
       "      <td>4.0</td>\n",
       "      <td>1</td>\n",
       "      <td>0</td>\n",
       "      <td>0</td>\n",
       "      <td>0</td>\n",
       "      <td>1728</td>\n",
       "      <td>1176</td>\n",
       "      <td>1.550679</td>\n",
       "      <td>1.033786</td>\n",
       "      <td>0.0</td>\n",
       "      <td>1368.0</td>\n",
       "      <td>65.538462</td>\n",
       "      <td>200.969003</td>\n",
       "      <td>40388.540171</td>\n",
       "      <td>0</td>\n",
       "      <td>0</td>\n",
       "      <td>0</td>\n",
       "      <td>54</td>\n",
       "      <td>90</td>\n",
       "      <td>0</td>\n",
       "      <td>0</td>\n",
       "      <td>0</td>\n",
       "      <td>0.0</td>\n",
       "      <td>66.266667</td>\n",
       "      <td>15.259259</td>\n",
       "      <td>141.777778</td>\n",
       "      <td>0</td>\n",
       "      <td>0</td>\n",
       "      <td>0</td>\n",
       "      <td>0</td>\n",
       "      <td>18</td>\n",
       "      <td>2045</td>\n",
       "      <td>0</td>\n",
       "      <td>9</td>\n",
       "      <td>0</td>\n",
       "      <td>56</td>\n",
       "      <td>2048</td>\n",
       "      <td>399</td>\n",
       "      <td>21</td>\n",
       "      <td>32</td>\n",
       "      <td>0</td>\n",
       "      <td>0</td>\n",
       "      <td>0</td>\n",
       "      <td>0</td>\n",
       "      <td>1.582199e+15</td>\n",
       "      <td>9.766441e+06</td>\n",
       "      <td>1.582199e+15</td>\n",
       "      <td>1.582199e+15</td>\n",
       "      <td>NeedManualLabel</td>\n",
       "    </tr>\n",
       "    <tr>\n",
       "      <th>2</th>\n",
       "      <td>172.25.75.126-172.16.68.58-60536-22-6</td>\n",
       "      <td>172.25.75.126</td>\n",
       "      <td>60536</td>\n",
       "      <td>172.16.68.58</td>\n",
       "      <td>22</td>\n",
       "      <td>6</td>\n",
       "      <td>20/02/2020 06:37:55 AM</td>\n",
       "      <td>8987891</td>\n",
       "      <td>10</td>\n",
       "      <td>6</td>\n",
       "      <td>448.0</td>\n",
       "      <td>696.0</td>\n",
       "      <td>188.0</td>\n",
       "      <td>0.0</td>\n",
       "      <td>44.800000</td>\n",
       "      <td>76.890687</td>\n",
       "      <td>188.0</td>\n",
       "      <td>36.0</td>\n",
       "      <td>116.000000</td>\n",
       "      <td>68.258333</td>\n",
       "      <td>127.282362</td>\n",
       "      <td>1.780173</td>\n",
       "      <td>5.991927e+05</td>\n",
       "      <td>2.310391e+06</td>\n",
       "      <td>8950729.0</td>\n",
       "      <td>4.0</td>\n",
       "      <td>8987891.0</td>\n",
       "      <td>9.986546e+05</td>\n",
       "      <td>2.982040e+06</td>\n",
       "      <td>8950729.0</td>\n",
       "      <td>5.0</td>\n",
       "      <td>8979662.0</td>\n",
       "      <td>1.795932e+06</td>\n",
       "      <td>4.001291e+06</td>\n",
       "      <td>8953631.0</td>\n",
       "      <td>4.0</td>\n",
       "      <td>1</td>\n",
       "      <td>0</td>\n",
       "      <td>0</td>\n",
       "      <td>0</td>\n",
       "      <td>320</td>\n",
       "      <td>192</td>\n",
       "      <td>1.112608</td>\n",
       "      <td>0.667565</td>\n",
       "      <td>0.0</td>\n",
       "      <td>188.0</td>\n",
       "      <td>78.352941</td>\n",
       "      <td>82.268570</td>\n",
       "      <td>6768.117647</td>\n",
       "      <td>0</td>\n",
       "      <td>0</td>\n",
       "      <td>0</td>\n",
       "      <td>10</td>\n",
       "      <td>16</td>\n",
       "      <td>0</td>\n",
       "      <td>0</td>\n",
       "      <td>0</td>\n",
       "      <td>0.0</td>\n",
       "      <td>83.250000</td>\n",
       "      <td>44.800000</td>\n",
       "      <td>116.000000</td>\n",
       "      <td>0</td>\n",
       "      <td>0</td>\n",
       "      <td>0</td>\n",
       "      <td>0</td>\n",
       "      <td>5</td>\n",
       "      <td>33885</td>\n",
       "      <td>0</td>\n",
       "      <td>28</td>\n",
       "      <td>0</td>\n",
       "      <td>43</td>\n",
       "      <td>2048</td>\n",
       "      <td>355</td>\n",
       "      <td>3</td>\n",
       "      <td>32</td>\n",
       "      <td>0</td>\n",
       "      <td>0</td>\n",
       "      <td>0</td>\n",
       "      <td>0</td>\n",
       "      <td>1.582199e+15</td>\n",
       "      <td>4.456939e+06</td>\n",
       "      <td>1.582199e+15</td>\n",
       "      <td>1.582199e+15</td>\n",
       "      <td>NeedManualLabel</td>\n",
       "    </tr>\n",
       "    <tr>\n",
       "      <th>3</th>\n",
       "      <td>172.25.75.126-172.16.68.56-60534-22-6</td>\n",
       "      <td>172.25.75.126</td>\n",
       "      <td>60534</td>\n",
       "      <td>172.16.68.56</td>\n",
       "      <td>22</td>\n",
       "      <td>6</td>\n",
       "      <td>20/02/2020 06:36:46 AM</td>\n",
       "      <td>59600</td>\n",
       "      <td>6</td>\n",
       "      <td>4</td>\n",
       "      <td>72.0</td>\n",
       "      <td>320.0</td>\n",
       "      <td>36.0</td>\n",
       "      <td>0.0</td>\n",
       "      <td>12.000000</td>\n",
       "      <td>18.590320</td>\n",
       "      <td>124.0</td>\n",
       "      <td>36.0</td>\n",
       "      <td>80.000000</td>\n",
       "      <td>50.806824</td>\n",
       "      <td>6577.181208</td>\n",
       "      <td>167.785235</td>\n",
       "      <td>6.622222e+03</td>\n",
       "      <td>1.782849e+04</td>\n",
       "      <td>54114.0</td>\n",
       "      <td>3.0</td>\n",
       "      <td>59600.0</td>\n",
       "      <td>1.192000e+04</td>\n",
       "      <td>2.469581e+04</td>\n",
       "      <td>56016.0</td>\n",
       "      <td>3.0</td>\n",
       "      <td>56150.0</td>\n",
       "      <td>1.871667e+04</td>\n",
       "      <td>3.228493e+04</td>\n",
       "      <td>55996.0</td>\n",
       "      <td>7.0</td>\n",
       "      <td>1</td>\n",
       "      <td>0</td>\n",
       "      <td>0</td>\n",
       "      <td>0</td>\n",
       "      <td>192</td>\n",
       "      <td>128</td>\n",
       "      <td>100.671141</td>\n",
       "      <td>67.114094</td>\n",
       "      <td>0.0</td>\n",
       "      <td>124.0</td>\n",
       "      <td>38.909091</td>\n",
       "      <td>45.363983</td>\n",
       "      <td>2057.890909</td>\n",
       "      <td>0</td>\n",
       "      <td>0</td>\n",
       "      <td>0</td>\n",
       "      <td>6</td>\n",
       "      <td>10</td>\n",
       "      <td>0</td>\n",
       "      <td>0</td>\n",
       "      <td>0</td>\n",
       "      <td>0.0</td>\n",
       "      <td>42.800000</td>\n",
       "      <td>12.000000</td>\n",
       "      <td>80.000000</td>\n",
       "      <td>0</td>\n",
       "      <td>0</td>\n",
       "      <td>0</td>\n",
       "      <td>0</td>\n",
       "      <td>6</td>\n",
       "      <td>6777</td>\n",
       "      <td>0</td>\n",
       "      <td>7</td>\n",
       "      <td>0</td>\n",
       "      <td>32</td>\n",
       "      <td>2048</td>\n",
       "      <td>355</td>\n",
       "      <td>1</td>\n",
       "      <td>32</td>\n",
       "      <td>0</td>\n",
       "      <td>0</td>\n",
       "      <td>0</td>\n",
       "      <td>0</td>\n",
       "      <td>1.582199e+15</td>\n",
       "      <td>2.910616e+04</td>\n",
       "      <td>1.582199e+15</td>\n",
       "      <td>1.582199e+15</td>\n",
       "      <td>NeedManualLabel</td>\n",
       "    </tr>\n",
       "    <tr>\n",
       "      <th>4</th>\n",
       "      <td>172.25.75.126-172.16.68.57-60535-22-6</td>\n",
       "      <td>172.25.75.126</td>\n",
       "      <td>60535</td>\n",
       "      <td>172.16.68.57</td>\n",
       "      <td>22</td>\n",
       "      <td>6</td>\n",
       "      <td>20/02/2020 06:36:54 AM</td>\n",
       "      <td>33717520</td>\n",
       "      <td>18</td>\n",
       "      <td>10</td>\n",
       "      <td>896.0</td>\n",
       "      <td>1240.0</td>\n",
       "      <td>188.0</td>\n",
       "      <td>0.0</td>\n",
       "      <td>49.777778</td>\n",
       "      <td>77.444140</td>\n",
       "      <td>188.0</td>\n",
       "      <td>36.0</td>\n",
       "      <td>124.000000</td>\n",
       "      <td>62.425066</td>\n",
       "      <td>63.349855</td>\n",
       "      <td>0.830429</td>\n",
       "      <td>1.248797e+06</td>\n",
       "      <td>4.311826e+06</td>\n",
       "      <td>16552241.0</td>\n",
       "      <td>3.0</td>\n",
       "      <td>33717520.0</td>\n",
       "      <td>1.983384e+06</td>\n",
       "      <td>5.353853e+06</td>\n",
       "      <td>16552241.0</td>\n",
       "      <td>3.0</td>\n",
       "      <td>33708183.0</td>\n",
       "      <td>3.745354e+06</td>\n",
       "      <td>7.067871e+06</td>\n",
       "      <td>16556299.0</td>\n",
       "      <td>7.0</td>\n",
       "      <td>1</td>\n",
       "      <td>0</td>\n",
       "      <td>0</td>\n",
       "      <td>0</td>\n",
       "      <td>576</td>\n",
       "      <td>320</td>\n",
       "      <td>0.533847</td>\n",
       "      <td>0.296582</td>\n",
       "      <td>0.0</td>\n",
       "      <td>188.0</td>\n",
       "      <td>80.137931</td>\n",
       "      <td>81.173414</td>\n",
       "      <td>6589.123153</td>\n",
       "      <td>0</td>\n",
       "      <td>0</td>\n",
       "      <td>0</td>\n",
       "      <td>18</td>\n",
       "      <td>28</td>\n",
       "      <td>0</td>\n",
       "      <td>0</td>\n",
       "      <td>0</td>\n",
       "      <td>0.0</td>\n",
       "      <td>83.000000</td>\n",
       "      <td>49.777778</td>\n",
       "      <td>124.000000</td>\n",
       "      <td>0</td>\n",
       "      <td>0</td>\n",
       "      <td>0</td>\n",
       "      <td>0</td>\n",
       "      <td>4</td>\n",
       "      <td>26409</td>\n",
       "      <td>0</td>\n",
       "      <td>32</td>\n",
       "      <td>0</td>\n",
       "      <td>44</td>\n",
       "      <td>2048</td>\n",
       "      <td>377</td>\n",
       "      <td>7</td>\n",
       "      <td>32</td>\n",
       "      <td>0</td>\n",
       "      <td>0</td>\n",
       "      <td>0</td>\n",
       "      <td>0</td>\n",
       "      <td>1.582199e+15</td>\n",
       "      <td>1.333423e+07</td>\n",
       "      <td>1.582199e+15</td>\n",
       "      <td>1.582199e+15</td>\n",
       "      <td>NeedManualLabel</td>\n",
       "    </tr>\n",
       "  </tbody>\n",
       "</table>\n",
       "</div>"
      ],
      "text/plain": [
       "                                 Flow ID         Src IP  Src Port  \\\n",
       "0  172.25.75.126-172.16.68.58-60598-22-6  172.25.75.126     60598   \n",
       "1  172.25.75.126-172.16.68.56-60603-22-6  172.25.75.126     60603   \n",
       "2  172.25.75.126-172.16.68.58-60536-22-6  172.25.75.126     60536   \n",
       "3  172.25.75.126-172.16.68.56-60534-22-6  172.25.75.126     60534   \n",
       "4  172.25.75.126-172.16.68.57-60535-22-6  172.25.75.126     60535   \n",
       "\n",
       "         Dst IP  Dst Port  Protocol               Timestamp  Flow Duration  \\\n",
       "0  172.16.68.58        22         6  20/02/2020 06:37:51 AM       12209565   \n",
       "1  172.16.68.56        22         6  20/02/2020 06:36:44 AM       34823465   \n",
       "2  172.16.68.58        22         6  20/02/2020 06:37:55 AM        8987891   \n",
       "3  172.16.68.56        22         6  20/02/2020 06:36:46 AM          59600   \n",
       "4  172.16.68.57        22         6  20/02/2020 06:36:54 AM       33717520   \n",
       "\n",
       "   Total Fwd Packet  Total Bwd packets  Total Length of Fwd Packet  \\\n",
       "0               130                 70                      2856.0   \n",
       "1                54                 36                       824.0   \n",
       "2                10                  6                       448.0   \n",
       "3                 6                  4                        72.0   \n",
       "4                18                 10                       896.0   \n",
       "\n",
       "   Total Length of Bwd Packet  Fwd Packet Length Max  Fwd Packet Length Min  \\\n",
       "0                      6448.0                  188.0                    0.0   \n",
       "1                      5104.0                   44.0                    0.0   \n",
       "2                       696.0                  188.0                    0.0   \n",
       "3                       320.0                   36.0                    0.0   \n",
       "4                      1240.0                  188.0                    0.0   \n",
       "\n",
       "   Fwd Packet Length Mean  Fwd Packet Length Std  Bwd Packet Length Max  \\\n",
       "0               21.969231              29.373811                 1368.0   \n",
       "1               15.259259              18.682234                 1368.0   \n",
       "2               44.800000              76.890687                  188.0   \n",
       "3               12.000000              18.590320                  124.0   \n",
       "4               49.777778              77.444140                  188.0   \n",
       "\n",
       "   Bwd Packet Length Min  Bwd Packet Length Mean  Bwd Packet Length Std  \\\n",
       "0                   36.0               92.114286             222.925967   \n",
       "1                    0.0              141.777778             305.653315   \n",
       "2                   36.0              116.000000              68.258333   \n",
       "3                   36.0               80.000000              50.806824   \n",
       "4                   36.0              124.000000              62.425066   \n",
       "\n",
       "   Flow Bytes/s  Flow Packets/s  Flow IAT Mean  Flow IAT Std  Flow IAT Max  \\\n",
       "0    762.025510       16.380600   6.135460e+04  5.092299e+05     7020029.0   \n",
       "1    170.230045        2.584464   3.912749e+05  3.112204e+06    29276513.0   \n",
       "2    127.282362        1.780173   5.991927e+05  2.310391e+06     8950729.0   \n",
       "3   6577.181208      167.785235   6.622222e+03  1.782849e+04       54114.0   \n",
       "4     63.349855        0.830429   1.248797e+06  4.311826e+06    16552241.0   \n",
       "\n",
       "   Flow IAT Min  Fwd IAT Total  Fwd IAT Mean   Fwd IAT Std  Fwd IAT Max  \\\n",
       "0           1.0     12209565.0  9.464779e+04  6.308373e+05    7020029.0   \n",
       "1           3.0     34823465.0  6.570465e+05  4.026588e+06   29276513.0   \n",
       "2           4.0      8987891.0  9.986546e+05  2.982040e+06    8950729.0   \n",
       "3           3.0        59600.0  1.192000e+04  2.469581e+04      56016.0   \n",
       "4           3.0     33717520.0  1.983384e+06  5.353853e+06   16552241.0   \n",
       "\n",
       "   Fwd IAT Min  Bwd IAT Total  Bwd IAT Mean   Bwd IAT Std  Bwd IAT Max  \\\n",
       "0          3.0     12205863.0  1.768966e+05  8.581300e+05    7027831.0   \n",
       "1          3.0     34816392.0  9.947541e+05  4.945468e+06   29279587.0   \n",
       "2          5.0      8979662.0  1.795932e+06  4.001291e+06    8953631.0   \n",
       "3          3.0        56150.0  1.871667e+04  3.228493e+04      55996.0   \n",
       "4          3.0     33708183.0  3.745354e+06  7.067871e+06   16556299.0   \n",
       "\n",
       "   Bwd IAT Min  Fwd PSH Flags  Bwd PSH Flags  Fwd URG Flags  Bwd URG Flags  \\\n",
       "0          1.0              1              0              0              0   \n",
       "1          4.0              1              0              0              0   \n",
       "2          4.0              1              0              0              0   \n",
       "3          7.0              1              0              0              0   \n",
       "4          7.0              1              0              0              0   \n",
       "\n",
       "   Fwd Header Length  Bwd Header Length  Fwd Packets/s  Bwd Packets/s  \\\n",
       "0               4160               2240      10.647390       5.733210   \n",
       "1               1728               1176       1.550679       1.033786   \n",
       "2                320                192       1.112608       0.667565   \n",
       "3                192                128     100.671141      67.114094   \n",
       "4                576                320       0.533847       0.296582   \n",
       "\n",
       "   Packet Length Min  Packet Length Max  Packet Length Mean  \\\n",
       "0                0.0             1368.0           46.467662   \n",
       "1                0.0             1368.0           65.538462   \n",
       "2                0.0              188.0           78.352941   \n",
       "3                0.0              124.0           38.909091   \n",
       "4                0.0              188.0           80.137931   \n",
       "\n",
       "   Packet Length Std  Packet Length Variance  FIN Flag Count  SYN Flag Count  \\\n",
       "0         137.191691            18821.560199               0               0   \n",
       "1         200.969003            40388.540171               0               0   \n",
       "2          82.268570             6768.117647               0               0   \n",
       "3          45.363983             2057.890909               0               0   \n",
       "4          81.173414             6589.123153               0               0   \n",
       "\n",
       "   RST Flag Count  PSH Flag Count  ACK Flag Count  URG Flag Count  \\\n",
       "0               0             130             200               0   \n",
       "1               0              54              90               0   \n",
       "2               0              10              16               0   \n",
       "3               0               6              10               0   \n",
       "4               0              18              28               0   \n",
       "\n",
       "   CWE Flag Count  ECE Flag Count  Down/Up Ratio  Average Packet Size  \\\n",
       "0               0               0            0.0            46.700000   \n",
       "1               0               0            0.0            66.266667   \n",
       "2               0               0            0.0            83.250000   \n",
       "3               0               0            0.0            42.800000   \n",
       "4               0               0            0.0            83.000000   \n",
       "\n",
       "   Fwd Segment Size Avg  Bwd Segment Size Avg  Fwd Bytes/Bulk Avg  \\\n",
       "0             21.969231             92.114286                   0   \n",
       "1             15.259259            141.777778                   0   \n",
       "2             44.800000            116.000000                   0   \n",
       "3             12.000000             80.000000                   0   \n",
       "4             49.777778            124.000000                   0   \n",
       "\n",
       "   Fwd Packet/Bulk Avg  Fwd Bulk Rate Avg  Bwd Bytes/Bulk Avg  \\\n",
       "0                    0                  0                   0   \n",
       "1                    0                  0                   0   \n",
       "2                    0                  0                   0   \n",
       "3                    0                  0                   0   \n",
       "4                    0                  0                   0   \n",
       "\n",
       "   Bwd Packet/Bulk Avg  Bwd Bulk Rate Avg  Subflow Fwd Packets  \\\n",
       "0                   44               2334                    0   \n",
       "1                   18               2045                    0   \n",
       "2                    5              33885                    0   \n",
       "3                    6               6777                    0   \n",
       "4                    4              26409                    0   \n",
       "\n",
       "   Subflow Fwd Bytes  Subflow Bwd Packets  Subflow Bwd Bytes  \\\n",
       "0                 14                    0                 32   \n",
       "1                  9                    0                 56   \n",
       "2                 28                    0                 43   \n",
       "3                  7                    0                 32   \n",
       "4                 32                    0                 44   \n",
       "\n",
       "   FWD Init Win Bytes  Bwd Init Win Bytes  Fwd Act Data Pkts  \\\n",
       "0                2048                 356                 61   \n",
       "1                2048                 399                 21   \n",
       "2                2048                 355                  3   \n",
       "3                2048                 355                  1   \n",
       "4                2048                 377                  7   \n",
       "\n",
       "   Fwd Seg Size Min  Active Mean  Active Std  Active Max  Active Min  \\\n",
       "0                32            0           0           0           0   \n",
       "1                32            0           0           0           0   \n",
       "2                32            0           0           0           0   \n",
       "3                32            0           0           0           0   \n",
       "4                32            0           0           0           0   \n",
       "\n",
       "      Idle Mean      Idle Std      Idle Max      Idle Min            Label  \n",
       "0  1.582199e+15  3.688658e+06  1.582199e+15  1.582199e+15  NeedManualLabel  \n",
       "1  1.582199e+15  9.766441e+06  1.582199e+15  1.582199e+15  NeedManualLabel  \n",
       "2  1.582199e+15  4.456939e+06  1.582199e+15  1.582199e+15  NeedManualLabel  \n",
       "3  1.582199e+15  2.910616e+04  1.582199e+15  1.582199e+15  NeedManualLabel  \n",
       "4  1.582199e+15  1.333423e+07  1.582199e+15  1.582199e+15  NeedManualLabel  "
      ]
     },
     "execution_count": 12,
     "metadata": {},
     "output_type": "execute_result"
    }
   ],
   "source": [
    "gt.head()"
   ]
  },
  {
   "cell_type": "markdown",
   "metadata": {},
   "source": [
    "### Features Extraction"
   ]
  },
  {
   "cell_type": "code",
   "execution_count": 13,
   "metadata": {},
   "outputs": [],
   "source": [
    "good = gt[['Src Port', 'Dst Port', \\\n",
    "         'Flow Duration', 'Total Fwd Packet', 'Total Length of Fwd Packet', 'FIN Flag Count',\\\n",
    "         'SYN Flag Count' ,'ACK Flag Count', 'PSH Flag Count']]"
   ]
  },
  {
   "cell_type": "code",
   "execution_count": 14,
   "metadata": {},
   "outputs": [
    {
     "name": "stderr",
     "output_type": "stream",
     "text": [
      "C:\\Users\\Tandoi\\AppData\\Local\\Continuum\\anaconda3\\lib\\site-packages\\ipykernel_launcher.py:1: SettingWithCopyWarning: \n",
      "A value is trying to be set on a copy of a slice from a DataFrame.\n",
      "Try using .loc[row_indexer,col_indexer] = value instead\n",
      "\n",
      "See the caveats in the documentation: https://pandas.pydata.org/pandas-docs/stable/user_guide/indexing.html#returning-a-view-versus-a-copy\n",
      "  \"\"\"Entry point for launching an IPython kernel.\n"
     ]
    }
   ],
   "source": [
    "good['Label'] = 'not-ssh-bruteforce'"
   ]
  },
  {
   "cell_type": "code",
   "execution_count": 15,
   "metadata": {},
   "outputs": [
    {
     "data": {
      "text/html": [
       "<div>\n",
       "<style scoped>\n",
       "    .dataframe tbody tr th:only-of-type {\n",
       "        vertical-align: middle;\n",
       "    }\n",
       "\n",
       "    .dataframe tbody tr th {\n",
       "        vertical-align: top;\n",
       "    }\n",
       "\n",
       "    .dataframe thead th {\n",
       "        text-align: right;\n",
       "    }\n",
       "</style>\n",
       "<table border=\"1\" class=\"dataframe\">\n",
       "  <thead>\n",
       "    <tr style=\"text-align: right;\">\n",
       "      <th></th>\n",
       "      <th>Src Port</th>\n",
       "      <th>Dst Port</th>\n",
       "      <th>Flow Duration</th>\n",
       "      <th>Total Fwd Packet</th>\n",
       "      <th>Total Length of Fwd Packet</th>\n",
       "      <th>FIN Flag Count</th>\n",
       "      <th>SYN Flag Count</th>\n",
       "      <th>ACK Flag Count</th>\n",
       "      <th>PSH Flag Count</th>\n",
       "      <th>Label</th>\n",
       "    </tr>\n",
       "  </thead>\n",
       "  <tbody>\n",
       "    <tr>\n",
       "      <th>0</th>\n",
       "      <td>60598</td>\n",
       "      <td>22</td>\n",
       "      <td>12209565</td>\n",
       "      <td>130</td>\n",
       "      <td>2856.0</td>\n",
       "      <td>0</td>\n",
       "      <td>0</td>\n",
       "      <td>200</td>\n",
       "      <td>130</td>\n",
       "      <td>not-ssh-bruteforce</td>\n",
       "    </tr>\n",
       "    <tr>\n",
       "      <th>1</th>\n",
       "      <td>60603</td>\n",
       "      <td>22</td>\n",
       "      <td>34823465</td>\n",
       "      <td>54</td>\n",
       "      <td>824.0</td>\n",
       "      <td>0</td>\n",
       "      <td>0</td>\n",
       "      <td>90</td>\n",
       "      <td>54</td>\n",
       "      <td>not-ssh-bruteforce</td>\n",
       "    </tr>\n",
       "    <tr>\n",
       "      <th>2</th>\n",
       "      <td>60536</td>\n",
       "      <td>22</td>\n",
       "      <td>8987891</td>\n",
       "      <td>10</td>\n",
       "      <td>448.0</td>\n",
       "      <td>0</td>\n",
       "      <td>0</td>\n",
       "      <td>16</td>\n",
       "      <td>10</td>\n",
       "      <td>not-ssh-bruteforce</td>\n",
       "    </tr>\n",
       "    <tr>\n",
       "      <th>3</th>\n",
       "      <td>60534</td>\n",
       "      <td>22</td>\n",
       "      <td>59600</td>\n",
       "      <td>6</td>\n",
       "      <td>72.0</td>\n",
       "      <td>0</td>\n",
       "      <td>0</td>\n",
       "      <td>10</td>\n",
       "      <td>6</td>\n",
       "      <td>not-ssh-bruteforce</td>\n",
       "    </tr>\n",
       "    <tr>\n",
       "      <th>4</th>\n",
       "      <td>60535</td>\n",
       "      <td>22</td>\n",
       "      <td>33717520</td>\n",
       "      <td>18</td>\n",
       "      <td>896.0</td>\n",
       "      <td>0</td>\n",
       "      <td>0</td>\n",
       "      <td>28</td>\n",
       "      <td>18</td>\n",
       "      <td>not-ssh-bruteforce</td>\n",
       "    </tr>\n",
       "  </tbody>\n",
       "</table>\n",
       "</div>"
      ],
      "text/plain": [
       "   Src Port  Dst Port  Flow Duration  Total Fwd Packet  \\\n",
       "0     60598        22       12209565               130   \n",
       "1     60603        22       34823465                54   \n",
       "2     60536        22        8987891                10   \n",
       "3     60534        22          59600                 6   \n",
       "4     60535        22       33717520                18   \n",
       "\n",
       "   Total Length of Fwd Packet  FIN Flag Count  SYN Flag Count  ACK Flag Count  \\\n",
       "0                      2856.0               0               0             200   \n",
       "1                       824.0               0               0              90   \n",
       "2                       448.0               0               0              16   \n",
       "3                        72.0               0               0              10   \n",
       "4                       896.0               0               0              28   \n",
       "\n",
       "   PSH Flag Count               Label  \n",
       "0             130  not-ssh-bruteforce  \n",
       "1              54  not-ssh-bruteforce  \n",
       "2              10  not-ssh-bruteforce  \n",
       "3               6  not-ssh-bruteforce  \n",
       "4              18  not-ssh-bruteforce  "
      ]
     },
     "execution_count": 15,
     "metadata": {},
     "output_type": "execute_result"
    }
   ],
   "source": [
    "good.head()"
   ]
  },
  {
   "cell_type": "code",
   "execution_count": 16,
   "metadata": {},
   "outputs": [
    {
     "data": {
      "text/plain": [
       "(17954, 10)"
      ]
     },
     "execution_count": 16,
     "metadata": {},
     "output_type": "execute_result"
    }
   ],
   "source": [
    "good.shape"
   ]
  },
  {
   "cell_type": "markdown",
   "metadata": {},
   "source": [
    "## Final Dataframe"
   ]
  },
  {
   "cell_type": "code",
   "execution_count": 17,
   "metadata": {},
   "outputs": [],
   "source": [
    "frames = [bad, good]\n",
    "\n",
    "result = pd.concat(frames)"
   ]
  },
  {
   "cell_type": "code",
   "execution_count": 18,
   "metadata": {},
   "outputs": [
    {
     "data": {
      "text/html": [
       "<div>\n",
       "<style scoped>\n",
       "    .dataframe tbody tr th:only-of-type {\n",
       "        vertical-align: middle;\n",
       "    }\n",
       "\n",
       "    .dataframe tbody tr th {\n",
       "        vertical-align: top;\n",
       "    }\n",
       "\n",
       "    .dataframe thead th {\n",
       "        text-align: right;\n",
       "    }\n",
       "</style>\n",
       "<table border=\"1\" class=\"dataframe\">\n",
       "  <thead>\n",
       "    <tr style=\"text-align: right;\">\n",
       "      <th></th>\n",
       "      <th>Src Port</th>\n",
       "      <th>Dst Port</th>\n",
       "      <th>Flow Duration</th>\n",
       "      <th>Total Fwd Packet</th>\n",
       "      <th>Total Length of Fwd Packet</th>\n",
       "      <th>FIN Flag Count</th>\n",
       "      <th>SYN Flag Count</th>\n",
       "      <th>ACK Flag Count</th>\n",
       "      <th>PSH Flag Count</th>\n",
       "      <th>Label</th>\n",
       "    </tr>\n",
       "  </thead>\n",
       "  <tbody>\n",
       "    <tr>\n",
       "      <th>0</th>\n",
       "      <td>38878</td>\n",
       "      <td>22</td>\n",
       "      <td>150206</td>\n",
       "      <td>14</td>\n",
       "      <td>1202.0</td>\n",
       "      <td>1</td>\n",
       "      <td>2</td>\n",
       "      <td>24</td>\n",
       "      <td>12</td>\n",
       "      <td>ssh-bruteforce</td>\n",
       "    </tr>\n",
       "    <tr>\n",
       "      <th>1</th>\n",
       "      <td>38958</td>\n",
       "      <td>22</td>\n",
       "      <td>27704</td>\n",
       "      <td>3</td>\n",
       "      <td>22.0</td>\n",
       "      <td>1</td>\n",
       "      <td>2</td>\n",
       "      <td>4</td>\n",
       "      <td>1</td>\n",
       "      <td>ssh-bruteforce</td>\n",
       "    </tr>\n",
       "    <tr>\n",
       "      <th>2</th>\n",
       "      <td>38962</td>\n",
       "      <td>22</td>\n",
       "      <td>20619</td>\n",
       "      <td>3</td>\n",
       "      <td>22.0</td>\n",
       "      <td>1</td>\n",
       "      <td>2</td>\n",
       "      <td>4</td>\n",
       "      <td>1</td>\n",
       "      <td>ssh-bruteforce</td>\n",
       "    </tr>\n",
       "    <tr>\n",
       "      <th>3</th>\n",
       "      <td>38990</td>\n",
       "      <td>22</td>\n",
       "      <td>6692</td>\n",
       "      <td>3</td>\n",
       "      <td>22.0</td>\n",
       "      <td>1</td>\n",
       "      <td>2</td>\n",
       "      <td>4</td>\n",
       "      <td>1</td>\n",
       "      <td>ssh-bruteforce</td>\n",
       "    </tr>\n",
       "    <tr>\n",
       "      <th>4</th>\n",
       "      <td>38872</td>\n",
       "      <td>22</td>\n",
       "      <td>12114834</td>\n",
       "      <td>18</td>\n",
       "      <td>1654.0</td>\n",
       "      <td>1</td>\n",
       "      <td>2</td>\n",
       "      <td>38</td>\n",
       "      <td>23</td>\n",
       "      <td>ssh-bruteforce</td>\n",
       "    </tr>\n",
       "  </tbody>\n",
       "</table>\n",
       "</div>"
      ],
      "text/plain": [
       "   Src Port  Dst Port  Flow Duration  Total Fwd Packet  \\\n",
       "0     38878        22         150206                14   \n",
       "1     38958        22          27704                 3   \n",
       "2     38962        22          20619                 3   \n",
       "3     38990        22           6692                 3   \n",
       "4     38872        22       12114834                18   \n",
       "\n",
       "   Total Length of Fwd Packet  FIN Flag Count  SYN Flag Count  ACK Flag Count  \\\n",
       "0                      1202.0               1               2              24   \n",
       "1                        22.0               1               2               4   \n",
       "2                        22.0               1               2               4   \n",
       "3                        22.0               1               2               4   \n",
       "4                      1654.0               1               2              38   \n",
       "\n",
       "   PSH Flag Count           Label  \n",
       "0              12  ssh-bruteforce  \n",
       "1               1  ssh-bruteforce  \n",
       "2               1  ssh-bruteforce  \n",
       "3               1  ssh-bruteforce  \n",
       "4              23  ssh-bruteforce  "
      ]
     },
     "execution_count": 18,
     "metadata": {},
     "output_type": "execute_result"
    }
   ],
   "source": [
    "result.head()"
   ]
  },
  {
   "cell_type": "markdown",
   "metadata": {},
   "source": [
    "## Target Proportion"
   ]
  },
  {
   "cell_type": "code",
   "execution_count": 19,
   "metadata": {},
   "outputs": [
    {
     "name": "stdout",
     "output_type": "stream",
     "text": [
      "Class 0: 17954\n",
      "Class 1: 35666\n",
      "Proportion: 0.5 : 1\n"
     ]
    }
   ],
   "source": [
    "target_count = result.Label.value_counts()\n",
    "print('Class 0:', target_count['not-ssh-bruteforce'])\n",
    "print('Class 1:', target_count['ssh-bruteforce'])\n",
    "print('Proportion:', round(target_count['not-ssh-bruteforce'] / target_count['ssh-bruteforce'], 2), ': 1')\n",
    "\n"
   ]
  },
  {
   "cell_type": "code",
   "execution_count": 20,
   "metadata": {},
   "outputs": [],
   "source": [
    "import matplotlib.pyplot as plt"
   ]
  },
  {
   "cell_type": "code",
   "execution_count": 21,
   "metadata": {},
   "outputs": [
    {
     "data": {
      "text/plain": [
       "<matplotlib.axes._subplots.AxesSubplot at 0x15ecc1c5dd8>"
      ]
     },
     "execution_count": 21,
     "metadata": {},
     "output_type": "execute_result"
    },
    {
     "data": {
      "image/png": "[encoded data removed]",
      "text/plain": [
       "<Figure size 432x288 with 1 Axes>"
      ]
     },
     "metadata": {
      "needs_background": "light"
     },
     "output_type": "display_data"
    }
   ],
   "source": [
    "target_count.plot(kind='bar', title='Count (target)')"
   ]
  },
  {
   "cell_type": "markdown",
   "metadata": {},
   "source": [
    "## DOWNSAMPLE MAJORITY CLASS"
   ]
  },
  {
   "cell_type": "code",
   "execution_count": 22,
   "metadata": {},
   "outputs": [],
   "source": [
    "from sklearn.utils import resample"
   ]
  },
  {
   "cell_type": "code",
   "execution_count": 23,
   "metadata": {},
   "outputs": [],
   "source": [
    "# Separate majority and minority classes\n",
    "result_majority = result[result.Label==\"ssh-bruteforce\"]\n",
    "result_minority = result[result.Label==\"not-ssh-bruteforce\"]\n",
    "\n",
    "# Downsample majority class\n",
    "result_majority_downsampled = resample(result_majority, replace=False, n_samples=17954, random_state=123)\n",
    " \n"
   ]
  },
  {
   "cell_type": "code",
   "execution_count": 24,
   "metadata": {
    "scrolled": true
   },
   "outputs": [
    {
     "data": {
      "text/plain": [
       "ssh-bruteforce        17954\n",
       "not-ssh-bruteforce    17954\n",
       "Name: Label, dtype: int64"
      ]
     },
     "execution_count": 24,
     "metadata": {},
     "output_type": "execute_result"
    }
   ],
   "source": [
    "# Combine minority class with downsampled majority class\n",
    "result_downsampled = pd.concat([result_majority_downsampled, result_minority])\n",
    " \n",
    "# Display new class counts\n",
    "result_downsampled.Label.value_counts()"
   ]
  },
  {
   "cell_type": "markdown",
   "metadata": {},
   "source": [
    "## Import libraries for ML"
   ]
  },
  {
   "cell_type": "code",
   "execution_count": 25,
   "metadata": {},
   "outputs": [],
   "source": [
    "import os\n",
    "import pandas as pd\n",
    "from sklearn.preprocessing import LabelEncoder\n",
    "from sklearn.model_selection import cross_val_score\n",
    "from sklearn.model_selection import StratifiedKFold\n",
    "from sklearn.preprocessing import StandardScaler\n",
    "from sklearn.model_selection import train_test_split\n",
    "from sklearn.naive_bayes import GaussianNB\n",
    "from sklearn.neighbors import KNeighborsClassifier\n",
    "from sklearn.pipeline import make_pipeline\n",
    "from sklearn.decomposition import PCA\n",
    "from sklearn import metrics\n",
    "from sklearn import tree\n",
    "import graphviz\n",
    "from sklearn.metrics import confusion_matrix, classification_report"
   ]
  },
  {
   "cell_type": "code",
   "execution_count": 26,
   "metadata": {},
   "outputs": [],
   "source": [
    "# Creating feature set and labels\n",
    "dataset = result_downsampled.values\n",
    "X = dataset[:,0:9].astype(float)\n",
    "Y = dataset[:,9]"
   ]
  },
  {
   "cell_type": "code",
   "execution_count": 27,
   "metadata": {},
   "outputs": [],
   "source": [
    "# Turning labels into encoded variables\n",
    "# (essentially booleans for this binary classifier)\n",
    "le = LabelEncoder()"
   ]
  },
  {
   "cell_type": "code",
   "execution_count": 28,
   "metadata": {},
   "outputs": [],
   "source": [
    "le.fit(Y)\n",
    "encoded_Y = le.transform(Y)"
   ]
  },
  {
   "cell_type": "code",
   "execution_count": 29,
   "metadata": {},
   "outputs": [],
   "source": [
    "# Splitting training and test data\n",
    "X_train, X_test, Y_train, Y_test = train_test_split(X, encoded_Y, test_size=0.2)"
   ]
  },
  {
   "cell_type": "markdown",
   "metadata": {},
   "source": [
    "## RANDOM FOREST IMPLEMENTATION"
   ]
  },
  {
   "cell_type": "code",
   "execution_count": 30,
   "metadata": {},
   "outputs": [],
   "source": [
    "from sklearn.ensemble import RandomForestClassifier\n",
    "from sklearn.datasets import make_classification"
   ]
  },
  {
   "cell_type": "code",
   "execution_count": 31,
   "metadata": {
    "scrolled": true
   },
   "outputs": [],
   "source": [
    "rf_estimator = RandomForestClassifier(max_depth=2, random_state=0)"
   ]
  },
  {
   "cell_type": "code",
   "execution_count": 32,
   "metadata": {},
   "outputs": [
    {
     "data": {
      "text/plain": [
       "RandomForestClassifier(bootstrap=True, ccp_alpha=0.0, class_weight=None,\n",
       "                       criterion='gini', max_depth=2, max_features='auto',\n",
       "                       max_leaf_nodes=None, max_samples=None,\n",
       "                       min_impurity_decrease=0.0, min_impurity_split=None,\n",
       "                       min_samples_leaf=1, min_samples_split=2,\n",
       "                       min_weight_fraction_leaf=0.0, n_estimators=100,\n",
       "                       n_jobs=None, oob_score=False, random_state=0, verbose=0,\n",
       "                       warm_start=False)"
      ]
     },
     "execution_count": 32,
     "metadata": {},
     "output_type": "execute_result"
    }
   ],
   "source": [
    "rf_estimator.fit(X_train, Y_train)"
   ]
  },
  {
   "cell_type": "code",
   "execution_count": 33,
   "metadata": {},
   "outputs": [],
   "source": [
    "prediction = rf_estimator.predict(X_test)"
   ]
  },
  {
   "cell_type": "code",
   "execution_count": 34,
   "metadata": {},
   "outputs": [],
   "source": [
    "features = ['Src Port', 'Dst Port', \\\n",
    "         'Flow Duration', 'Total Fwd Packet', 'Total Length of Fwd Packet', 'FIN Flag Count',\\\n",
    "         'SYN Flag Count' ,'ACK Flag Count', 'PSH Flag Count']"
   ]
  },
  {
   "cell_type": "code",
   "execution_count": 35,
   "metadata": {},
   "outputs": [],
   "source": [
    "f_imp = rf_estimator.feature_importances_"
   ]
  },
  {
   "cell_type": "code",
   "execution_count": 36,
   "metadata": {},
   "outputs": [],
   "source": [
    "Importance = pd.DataFrame({'feature': features, 'feature_importance': f_imp})"
   ]
  },
  {
   "cell_type": "code",
   "execution_count": 37,
   "metadata": {},
   "outputs": [
    {
     "data": {
      "text/html": [
       "<div>\n",
       "<style scoped>\n",
       "    .dataframe tbody tr th:only-of-type {\n",
       "        vertical-align: middle;\n",
       "    }\n",
       "\n",
       "    .dataframe tbody tr th {\n",
       "        vertical-align: top;\n",
       "    }\n",
       "\n",
       "    .dataframe thead th {\n",
       "        text-align: right;\n",
       "    }\n",
       "</style>\n",
       "<table border=\"1\" class=\"dataframe\">\n",
       "  <thead>\n",
       "    <tr style=\"text-align: right;\">\n",
       "      <th></th>\n",
       "      <th>feature</th>\n",
       "      <th>feature_importance</th>\n",
       "    </tr>\n",
       "  </thead>\n",
       "  <tbody>\n",
       "    <tr>\n",
       "      <th>0</th>\n",
       "      <td>Src Port</td>\n",
       "      <td>0.008323</td>\n",
       "    </tr>\n",
       "    <tr>\n",
       "      <th>1</th>\n",
       "      <td>Dst Port</td>\n",
       "      <td>0.007301</td>\n",
       "    </tr>\n",
       "    <tr>\n",
       "      <th>2</th>\n",
       "      <td>Flow Duration</td>\n",
       "      <td>0.269728</td>\n",
       "    </tr>\n",
       "    <tr>\n",
       "      <th>3</th>\n",
       "      <td>Total Fwd Packet</td>\n",
       "      <td>0.014817</td>\n",
       "    </tr>\n",
       "    <tr>\n",
       "      <th>4</th>\n",
       "      <td>Total Length of Fwd Packet</td>\n",
       "      <td>0.184417</td>\n",
       "    </tr>\n",
       "    <tr>\n",
       "      <th>5</th>\n",
       "      <td>FIN Flag Count</td>\n",
       "      <td>0.264837</td>\n",
       "    </tr>\n",
       "    <tr>\n",
       "      <th>6</th>\n",
       "      <td>SYN Flag Count</td>\n",
       "      <td>0.117228</td>\n",
       "    </tr>\n",
       "    <tr>\n",
       "      <th>7</th>\n",
       "      <td>ACK Flag Count</td>\n",
       "      <td>0.032236</td>\n",
       "    </tr>\n",
       "    <tr>\n",
       "      <th>8</th>\n",
       "      <td>PSH Flag Count</td>\n",
       "      <td>0.101113</td>\n",
       "    </tr>\n",
       "  </tbody>\n",
       "</table>\n",
       "</div>"
      ],
      "text/plain": [
       "                      feature  feature_importance\n",
       "0                    Src Port            0.008323\n",
       "1                    Dst Port            0.007301\n",
       "2               Flow Duration            0.269728\n",
       "3            Total Fwd Packet            0.014817\n",
       "4  Total Length of Fwd Packet            0.184417\n",
       "5              FIN Flag Count            0.264837\n",
       "6              SYN Flag Count            0.117228\n",
       "7              ACK Flag Count            0.032236\n",
       "8              PSH Flag Count            0.101113"
      ]
     },
     "execution_count": 37,
     "metadata": {},
     "output_type": "execute_result"
    }
   ],
   "source": [
    "Importance"
   ]
  },
  {
   "cell_type": "code",
   "execution_count": 38,
   "metadata": {},
   "outputs": [],
   "source": [
    "i = 0\n",
    "correct_predictions = 0\n",
    "incorrect_predictions = 0\n",
    "true_positive = 0\n",
    "true_negative = 0\n",
    "false_positive = 0\n",
    "false_negative = 0\n",
    "for item in prediction:\n",
    "    if((item == 1) and (Y_test[i] == 1)):\n",
    "        correct_predictions += 1\n",
    "        true_positive += 1\n",
    "    elif((item == 0) and (Y_test[i] == 0)):\n",
    "        correct_predictions += 1\n",
    "        true_negative += 1\n",
    "    elif((item == 0) and (Y_test[i] == 1)):\n",
    "        incorrect_predictions += 1\n",
    "        false_negative += 1\n",
    "    elif((item == 1) and (Y_test[i] == 0)):\n",
    "        incorrect_predictions += 1\n",
    "        false_positive += 1\n",
    "        \n",
    "    i += 1"
   ]
  },
  {
   "cell_type": "code",
   "execution_count": 39,
   "metadata": {},
   "outputs": [
    {
     "name": "stdout",
     "output_type": "stream",
     "text": [
      "\n",
      "\n",
      "Random Forest\n",
      "Total entries: 7182\n",
      "Total correct predictions: 6819\n",
      "Total incorrect predictions: 363\n",
      "-------------- Breakdown ---------------\n",
      "True positives: 3653\n",
      "True negatives: 3166\n",
      "False positives: 363\n",
      "False negatives: 0\n"
     ]
    }
   ],
   "source": [
    "# Manually printing values for validation\n",
    "print(\"\\n\\nRandom Forest\")\n",
    "print(\"Total entries: %d\" % (i))\n",
    "print(\"Total correct predictions: %d\" % (correct_predictions))\n",
    "print(\"Total incorrect predictions: %d\" % (incorrect_predictions))\n",
    "print(\"-------------- Breakdown ---------------\")\n",
    "print(\"True positives: %d\" % (true_positive))\n",
    "print(\"True negatives: %d\" % (true_negative))\n",
    "print(\"False positives: %d\" % (false_positive))\n",
    "print(\"False negatives: %d\" % (false_negative))"
   ]
  },
  {
   "cell_type": "code",
   "execution_count": 40,
   "metadata": {
    "scrolled": true
   },
   "outputs": [
    {
     "name": "stdout",
     "output_type": "stream",
     "text": [
      "Cross Validation Results: 95.00% (0.39%)\n",
      "\n",
      "Prediction accuracy:\n",
      "\n",
      "94.95%\n",
      "\n",
      "                    precision    recall  f1-score   support\n",
      "\n",
      "not-ssh-bruteforce       1.00      0.90      0.95      3529\n",
      "    ssh-bruteforce       0.91      1.00      0.95      3653\n",
      "\n",
      "          accuracy                           0.95      7182\n",
      "         macro avg       0.95      0.95      0.95      7182\n",
      "      weighted avg       0.95      0.95      0.95      7182\n",
      "\n",
      "[[3166  363]\n",
      " [   0 3653]]\n"
     ]
    }
   ],
   "source": [
    "# K-fold cross validation\n",
    "kfold = StratifiedKFold(n_splits=10, shuffle=True)\n",
    "results = cross_val_score(rf_estimator, X_train, Y_train, cv=kfold)\n",
    "print(\"Cross Validation Results: %.2f%% (%.2f%%)\" % (results.mean()*100, results.std()*100))\n",
    "\n",
    "# Printing accuracy results\n",
    "print('\\nPrediction accuracy:\\n')\n",
    "print('{:.2%}\\n'.format(metrics.accuracy_score(Y_test, prediction)))\n",
    "\n",
    "# Printing classification report\n",
    "print(classification_report(Y_test, prediction, target_names=[\"not-ssh-bruteforce\", \"ssh-bruteforce\"]))\n",
    "\n",
    "# Printing confusion matrix\n",
    "print(confusion_matrix(Y_test, prediction))"
   ]
  },
  {
   "cell_type": "code",
   "execution_count": 41,
   "metadata": {},
   "outputs": [],
   "source": [
    "import matplotlib.pyplot as plt\n",
    "from sklearn.svm import SVC\n",
    "from sklearn.ensemble import RandomForestClassifier\n",
    "from sklearn.metrics import plot_roc_curve\n",
    "from sklearn.datasets import load_wine\n",
    "from sklearn.model_selection import train_test_split"
   ]
  },
  {
   "cell_type": "code",
   "execution_count": 42,
   "metadata": {},
   "outputs": [
    {
     "data": {
      "image/png": "[encoded data removed]",
      "text/plain": [
       "<Figure size 432x288 with 1 Axes>"
      ]
     },
     "metadata": {
      "needs_background": "light"
     },
     "output_type": "display_data"
    }
   ],
   "source": [
    "ax = plt.gca()\n",
    "rfc_disp = plot_roc_curve(rf_estimator, X_test, Y_test, ax=ax, alpha=0.8)\n",
    "plt.show()"
   ]
  },
  {
   "cell_type": "markdown",
   "metadata": {},
   "source": [
    "## K-NEAREST NEIGHBORS IMPLEMENTATION"
   ]
  },
  {
   "cell_type": "code",
   "execution_count": 43,
   "metadata": {},
   "outputs": [],
   "source": [
    "knn_estimator = make_pipeline(StandardScaler(), PCA(n_components=5), KNeighborsClassifier(n_neighbors=7))\n",
    "knn_estimator.fit(X_train, Y_train)\n",
    "predictions = knn_estimator.predict(X_test)"
   ]
  },
  {
   "cell_type": "code",
   "execution_count": 44,
   "metadata": {},
   "outputs": [],
   "source": [
    "i = 0\n",
    "correct_predictions = 0\n",
    "incorrect_predictions = 0\n",
    "true_positive = 0\n",
    "true_negative = 0\n",
    "false_positive = 0\n",
    "false_negative = 0\n",
    "for item in predictions:\n",
    "    if((item == 1) and (Y_test[i] == 1)):\n",
    "        correct_predictions += 1\n",
    "        true_positive += 1\n",
    "    elif((item == 0) and (Y_test[i] == 0)):\n",
    "        correct_predictions += 1\n",
    "        true_negative += 1\n",
    "    elif((item == 0) and (Y_test[i] == 1)):\n",
    "        incorrect_predictions += 1\n",
    "        false_negative += 1\n",
    "    elif((item == 1) and (Y_test[i] == 0)):\n",
    "        incorrect_predictions += 1\n",
    "        false_positive += 1\n",
    "        \n",
    "    i += 1"
   ]
  },
  {
   "cell_type": "code",
   "execution_count": 45,
   "metadata": {},
   "outputs": [
    {
     "name": "stdout",
     "output_type": "stream",
     "text": [
      "\n",
      "\n",
      "KNN\n",
      "Total entries: 7182\n",
      "Total correct predictions: 6970\n",
      "Total incorrect predictions: 212\n",
      "-------------- Breakdown ---------------\n",
      "True positives: 3574\n",
      "True negatives: 3396\n",
      "False positives: 133\n",
      "False negatives: 79\n"
     ]
    }
   ],
   "source": [
    "# Manually printing values for validation\n",
    "print(\"\\n\\nKNN\")\n",
    "print(\"Total entries: %d\" % (i))\n",
    "print(\"Total correct predictions: %d\" % (correct_predictions))\n",
    "print(\"Total incorrect predictions: %d\" % (incorrect_predictions))\n",
    "print(\"-------------- Breakdown ---------------\")\n",
    "print(\"True positives: %d\" % (true_positive))\n",
    "print(\"True negatives: %d\" % (true_negative))\n",
    "print(\"False positives: %d\" % (false_positive))\n",
    "print(\"False negatives: %d\" % (false_negative))"
   ]
  },
  {
   "cell_type": "code",
   "execution_count": 46,
   "metadata": {},
   "outputs": [
    {
     "name": "stdout",
     "output_type": "stream",
     "text": [
      "Cross Validation Results: 97.36% (0.21%)\n",
      "\n",
      "Prediction accuracy:\n",
      "\n",
      "97.05%\n",
      "\n",
      "                    precision    recall  f1-score   support\n",
      "\n",
      "not-ssh-bruteforce       0.98      0.96      0.97      3529\n",
      "    ssh-bruteforce       0.96      0.98      0.97      3653\n",
      "\n",
      "          accuracy                           0.97      7182\n",
      "         macro avg       0.97      0.97      0.97      7182\n",
      "      weighted avg       0.97      0.97      0.97      7182\n",
      "\n",
      "[[3396  133]\n",
      " [  79 3574]]\n"
     ]
    }
   ],
   "source": [
    "# K-fold cross validation\n",
    "kfold = StratifiedKFold(n_splits=10, shuffle=True)\n",
    "results = cross_val_score(knn_estimator, X_train, Y_train, cv=kfold)\n",
    "print(\"Cross Validation Results: %.2f%% (%.2f%%)\" % (results.mean()*100, results.std()*100))\n",
    "\n",
    "# Printing accuracy results\n",
    "print('\\nPrediction accuracy:\\n')\n",
    "print('{:.2%}\\n'.format(metrics.accuracy_score(Y_test, predictions)))\n",
    "\n",
    "# Printing classification report\n",
    "print(classification_report(Y_test, predictions, target_names=[\"not-ssh-bruteforce\", \"ssh-bruteforce\"]))\n",
    "\n",
    "# Printing confusion matrix\n",
    "print(confusion_matrix(Y_test, predictions))"
   ]
  },
  {
   "cell_type": "markdown",
   "metadata": {},
   "source": [
    "## NAIVE BAYES IMPLEMENTATION"
   ]
  },
  {
   "cell_type": "code",
   "execution_count": 47,
   "metadata": {},
   "outputs": [],
   "source": [
    "gaussian_estimator = make_pipeline(PCA(n_components=5), GaussianNB())\n",
    "gaussian_estimator.fit(X_train, Y_train)\n",
    "predictions = gaussian_estimator.predict(X_test)"
   ]
  },
  {
   "cell_type": "code",
   "execution_count": 48,
   "metadata": {},
   "outputs": [],
   "source": [
    "# Manually collecting statistics for verification\n",
    "i = 0\n",
    "correct_predictions = 0\n",
    "incorrect_predictions = 0\n",
    "true_positive = 0\n",
    "true_negative = 0\n",
    "false_positive = 0\n",
    "false_negative = 0\n",
    "for item in predictions:\n",
    "    if((item == 1) and (Y_test[i] == 1)):\n",
    "        correct_predictions += 1\n",
    "        true_positive += 1\n",
    "    elif((item == 0) and (Y_test[i] == 0)):\n",
    "        correct_predictions += 1\n",
    "        true_negative += 1\n",
    "    elif((item == 0) and (Y_test[i] == 1)):\n",
    "        incorrect_predictions += 1\n",
    "        false_negative += 1\n",
    "    elif((item == 1) and (Y_test[i] == 0)):\n",
    "        incorrect_predictions += 1\n",
    "        false_positive += 1\n",
    "        \n",
    "    i += 1"
   ]
  },
  {
   "cell_type": "code",
   "execution_count": 49,
   "metadata": {
    "scrolled": true
   },
   "outputs": [
    {
     "name": "stdout",
     "output_type": "stream",
     "text": [
      "\n",
      "\n",
      "NAIVE BAYES\n",
      "Total entries: 7182\n",
      "Total correct predictions: 6408\n",
      "Total incorrect predictions: 774\n",
      "-------------- Breakdown ---------------\n",
      "True positives: 3653\n",
      "True negatives: 2755\n",
      "False positives: 774\n",
      "False negatives: 0\n"
     ]
    }
   ],
   "source": [
    "# Manually printing values for validation\n",
    "print(\"\\n\\nNAIVE BAYES\")\n",
    "print(\"Total entries: %d\" % (i))\n",
    "print(\"Total correct predictions: %d\" % (correct_predictions))\n",
    "print(\"Total incorrect predictions: %d\" % (incorrect_predictions))\n",
    "print(\"-------------- Breakdown ---------------\")\n",
    "print(\"True positives: %d\" % (true_positive))\n",
    "print(\"True negatives: %d\" % (true_negative))\n",
    "print(\"False positives: %d\" % (false_positive))\n",
    "print(\"False negatives: %d\" % (false_negative))"
   ]
  },
  {
   "cell_type": "code",
   "execution_count": 50,
   "metadata": {},
   "outputs": [
    {
     "name": "stdout",
     "output_type": "stream",
     "text": [
      "Cross Validation Results: 88.73% (0.58%)\n",
      "\n",
      "Prediction accuracy:\n",
      "\n",
      "89.22%\n",
      "\n",
      "                    precision    recall  f1-score   support\n",
      "\n",
      "not-ssh-bruteforce       1.00      0.78      0.88      3529\n",
      "    ssh-bruteforce       0.83      1.00      0.90      3653\n",
      "\n",
      "          accuracy                           0.89      7182\n",
      "         macro avg       0.91      0.89      0.89      7182\n",
      "      weighted avg       0.91      0.89      0.89      7182\n",
      "\n"
     ]
    }
   ],
   "source": [
    "# K-fold cross validation\n",
    "kfold = StratifiedKFold(n_splits=10, shuffle=True)\n",
    "results = cross_val_score(gaussian_estimator, X_train, Y_train, cv=kfold)\n",
    "print(\"Cross Validation Results: %.2f%% (%.2f%%)\" % (results.mean()*100, results.std()*100))\n",
    "\n",
    "# Printing accuracy results\n",
    "print('\\nPrediction accuracy:\\n')\n",
    "print('{:.2%}\\n'.format(metrics.accuracy_score(Y_test, predictions)))\n",
    "\n",
    "# Printing classification report\n",
    "print(classification_report(Y_test, predictions, target_names=[\"not-ssh-bruteforce\", \"ssh-bruteforce\"]))"
   ]
  },
  {
   "cell_type": "code",
   "execution_count": 51,
   "metadata": {},
   "outputs": [
    {
     "name": "stdout",
     "output_type": "stream",
     "text": [
      "[[2755  774]\n",
      " [   0 3653]]\n"
     ]
    }
   ],
   "source": [
    "# Printing confusion matrix\n",
    "print(confusion_matrix(Y_test, predictions))"
   ]
  },
  {
   "cell_type": "markdown",
   "metadata": {},
   "source": [
    "## DECISION TREE IMPLEMENTATION"
   ]
  },
  {
   "cell_type": "code",
   "execution_count": 52,
   "metadata": {},
   "outputs": [],
   "source": [
    "tree_estimator=tree.DecisionTreeClassifier()\n",
    "tree_estimator.fit(X_train, Y_train)\n",
    "predictions = tree_estimator.predict(X_test)"
   ]
  },
  {
   "cell_type": "code",
   "execution_count": 53,
   "metadata": {},
   "outputs": [],
   "source": [
    "i = 0\n",
    "correct_predictions = 0\n",
    "incorrect_predictions = 0\n",
    "true_positive = 0\n",
    "true_negative = 0\n",
    "false_positive = 0\n",
    "false_negative = 0\n",
    "for item in predictions:\n",
    "    if((item == 1) and (Y_test[i] == 1)):\n",
    "        correct_predictions += 1\n",
    "        true_positive += 1\n",
    "    elif((item == 0) and (Y_test[i] == 0)):\n",
    "        correct_predictions += 1\n",
    "        true_negative += 1\n",
    "    elif((item == 0) and (Y_test[i] == 1)):\n",
    "        incorrect_predictions += 1\n",
    "        false_negative += 1\n",
    "    elif((item == 1) and (Y_test[i] == 0)):\n",
    "        incorrect_predictions += 1\n",
    "        false_positive += 1\n",
    "        \n",
    "    i += 1"
   ]
  },
  {
   "cell_type": "code",
   "execution_count": 54,
   "metadata": {},
   "outputs": [
    {
     "name": "stdout",
     "output_type": "stream",
     "text": [
      "\n",
      "\n",
      "Decision Tree\n",
      "Total entries: 7182\n",
      "Total correct predictions: 7165\n",
      "Total incorrect predictions: 17\n",
      "-------------- Breakdown ---------------\n",
      "True positives: 3646\n",
      "True negatives: 3519\n",
      "False positives: 10\n",
      "False negatives: 7\n"
     ]
    }
   ],
   "source": [
    "# Manually printing values for validation\n",
    "print(\"\\n\\nDecision Tree\")\n",
    "print(\"Total entries: %d\" % (i))\n",
    "print(\"Total correct predictions: %d\" % (correct_predictions))\n",
    "print(\"Total incorrect predictions: %d\" % (incorrect_predictions))\n",
    "print(\"-------------- Breakdown ---------------\")\n",
    "print(\"True positives: %d\" % (true_positive))\n",
    "print(\"True negatives: %d\" % (true_negative))\n",
    "print(\"False positives: %d\" % (false_positive))\n",
    "print(\"False negatives: %d\" % (false_negative))"
   ]
  },
  {
   "cell_type": "code",
   "execution_count": 55,
   "metadata": {},
   "outputs": [
    {
     "name": "stdout",
     "output_type": "stream",
     "text": [
      "Cross Validation Results: 99.83% (0.08%)\n",
      "\n",
      "Prediction accuracy:\n",
      "\n",
      "99.76%\n",
      "\n",
      "                    precision    recall  f1-score   support\n",
      "\n",
      "not-ssh-bruteforce       1.00      1.00      1.00      3529\n",
      "    ssh-bruteforce       1.00      1.00      1.00      3653\n",
      "\n",
      "          accuracy                           1.00      7182\n",
      "         macro avg       1.00      1.00      1.00      7182\n",
      "      weighted avg       1.00      1.00      1.00      7182\n",
      "\n",
      "[[3519   10]\n",
      " [   7 3646]]\n"
     ]
    }
   ],
   "source": [
    "# K-fold cross validation\n",
    "kfold = StratifiedKFold(n_splits=10, shuffle=True)\n",
    "results = cross_val_score(tree_estimator, X_train, Y_train, cv=kfold)\n",
    "print(\"Cross Validation Results: %.2f%% (%.2f%%)\" % (results.mean()*100, results.std()*100))\n",
    "\n",
    "# Printing accuracy results\n",
    "print('\\nPrediction accuracy:\\n')\n",
    "print('{:.2%}\\n'.format(metrics.accuracy_score(Y_test, predictions)))\n",
    "\n",
    "# Printing classification report\n",
    "print(classification_report(Y_test, predictions, target_names=[\"not-ssh-bruteforce\", \"ssh-bruteforce\"]))\n",
    "\n",
    "# Printing confusion matrix\n",
    "print(confusion_matrix(Y_test, predictions))"
   ]
  },
  {
   "cell_type": "code",
   "execution_count": 56,
   "metadata": {},
   "outputs": [],
   "source": [
    "dot_data = tree.export_graphviz(tree_estimator, out_file=None, feature_names = result.columns[0:9], class_names = [\"not-ssh-bruteforce\", \"ssh_bruteforce\"])"
   ]
  },
  {
   "cell_type": "code",
   "execution_count": 57,
   "metadata": {},
   "outputs": [],
   "source": [
    "import os\n",
    "os.environ[\"PATH\"] += os.pathsep + r'C:\\Users\\Tandoi\\graphviz-2.38\\release\\bin'"
   ]
  },
  {
   "cell_type": "code",
   "execution_count": 58,
   "metadata": {},
   "outputs": [],
   "source": [
    "# Create decision tree graph\n",
    "graphIDS = graphviz.Source(dot_data)"
   ]
  },
  {
   "cell_type": "code",
   "execution_count": 59,
   "metadata": {},
   "outputs": [
    {
     "data": {
      "text/plain": [
       "'IDS_bruteforce_tree.pdf'"
      ]
     },
     "execution_count": 59,
     "metadata": {},
     "output_type": "execute_result"
    }
   ],
   "source": [
    "graphIDS.render(\"IDS_bruteforce_tree\")"
   ]
  }
 ],
 "metadata": {
  "kernelspec": {
   "display_name": "Python 3",
   "language": "python",
   "name": "python3"
  },
  "language_info": {
   "codemirror_mode": {
    "name": "ipython",
    "version": 3
   },
   "file_extension": ".py",
   "mimetype": "text/x-python",
   "name": "python",
   "nbconvert_exporter": "python",
   "pygments_lexer": "ipython3",
   "version": "3.7.3"
  }
 },
 "nbformat": 4,
 "nbformat_minor": 2
}
